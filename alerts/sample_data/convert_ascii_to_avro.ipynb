{
 "cells": [
  {
   "cell_type": "code",
   "execution_count": null,
   "id": "99c61ec9-e579-46cc-8cd3-b1fe94bfe140",
   "metadata": {},
   "outputs": [],
   "source": [
    "import json\n",
    "import numpy as np\n",
    "import re\n",
    "import fastavro"
   ]
  },
  {
   "cell_type": "code",
   "execution_count": null,
   "id": "b195f742-03ab-49c1-a65d-e6b3b2bee4b1",
   "metadata": {},
   "outputs": [],
   "source": [
    "def convert_ascii_sextractor_catalog_to_json(data_filename,params_filename):\n",
    "    with open(params_filename, 'r') as file:\n",
    "        i = 0\n",
    "        idx = {}\n",
    "        for line in file:\n",
    "            param = line.strip()\n",
    "            param = param.replace(\"(\",\"_\")\n",
    "            param = param.replace(\")\",\"\")\n",
    "            idx[param] = i\n",
    "            i += 1\n",
    "            \n",
    "    with open(data_filename, 'r') as file:\n",
    "        r = {'SExtractorSourceArray':[]}\n",
    "        for line in file:\n",
    "            json_dict = {}\n",
    "            string_match = re.match(r\"^#(.+)\", line)\n",
    "\n",
    "            try:\n",
    "                # See if line is a comment, and skip if so.\n",
    "                c = string_match.group(1)\n",
    "                continue\n",
    "            except:\n",
    "                pass\n",
    "\n",
    "            all = line.strip().split()\n",
    "\n",
    "            for p in idx.keys():\n",
    "                j = idx[p]\n",
    "                json_dict[p] = all[j]\n",
    "            r['SExtractorSourceArray'].append(json_dict)\n",
    "    return r"
   ]
  },
  {
   "cell_type": "code",
   "execution_count": null,
   "id": "25d55ff0-7f1d-4c3a-91f7-f767f161a3db",
   "metadata": {},
   "outputs": [],
   "source": [
    "json_data = convert_ascii_sextractor_catalog_to_json('awaicgen_output_mosaic_image_resampled_refgainmatchsexcat.txt','../git/rapid/cdf/rapidSexParamsGainMatch.inp')"
   ]
  },
  {
   "cell_type": "code",
   "execution_count": null,
   "id": "063d5b0b-cfce-402a-a419-c00169ea8a00",
   "metadata": {
    "scrolled": true
   },
   "outputs": [],
   "source": [
    "json_data"
   ]
  },
  {
   "cell_type": "code",
   "execution_count": null,
   "id": "4a63a6bb-aa23-4de4-b920-42066dc7a1e5",
   "metadata": {},
   "outputs": [],
   "source": [
    "json_data_single = {\"alertId\": \"001\",\n",
    "                    \"SExtractorSourceSingle\": json_data['SExtractorSourceArray'][0]}"
   ]
  },
  {
   "cell_type": "code",
   "execution_count": null,
   "id": "a4c985e9-098a-4dac-a344-2d90713b727a",
   "metadata": {
    "scrolled": true
   },
   "outputs": [],
   "source": [
    "json_data_combined = {\"alertId\": \"001\",\n",
    "                    \"SExtractorSourceSingle\": json_data['SExtractorSourceArray'][0],\n",
    "                     \"SExtractorSourceArray\": json_data['SExtractorSourceArray']}"
   ]
  },
  {
   "cell_type": "code",
   "execution_count": null,
   "id": "c71d634a-62ae-4954-92c2-de6730d7e31c",
   "metadata": {},
   "outputs": [],
   "source": [
    "sextractor_schema = {\n",
    "    \"namespace\": \"rapid\",\n",
    "\t\"name\": \"SExtractorSourceSingle\",\n",
    "\t\"doc\": \"RAPID avro alert schema\",\n",
    "    \"version\": \"X.Y\",\n",
    "    \"type\": \"record\",\n",
    "\t\"fields\": []\n",
    "}"
   ]
  },
  {
   "cell_type": "code",
   "execution_count": null,
   "id": "4de18fd5-8d52-47ad-a953-897452bceb13",
   "metadata": {},
   "outputs": [],
   "source": [
    "params_filename = '../git/rapid/cdf/rapidSexParamsGainMatch.inp'\n",
    "with open(params_filename, 'r') as file:\n",
    "        i=0\n",
    "        idx = {}\n",
    "        for line in file:\n",
    "            param = line.strip()\n",
    "            param = param.replace(\"(\",\"_\")\n",
    "            param = param.replace(\")\",\"\")\n",
    "            idx[param] = i\n",
    "            i+=1\n",
    "        for p in idx.keys():\n",
    "            sextractor_schema[\"fields\"].append({\"name\": p, \"type\": [\"null\",\"string\"],\"default\": None})"
   ]
  },
  {
   "cell_type": "code",
   "execution_count": null,
   "id": "282c5eaa-0cbb-4794-bbf5-e0b7029deb41",
   "metadata": {
    "scrolled": true
   },
   "outputs": [],
   "source": [
    "sextractor_schema"
   ]
  },
  {
   "cell_type": "code",
   "execution_count": null,
   "id": "faea83fd-a2e9-499a-b3e7-87cc83e692a3",
   "metadata": {},
   "outputs": [],
   "source": [
    "with open('SExtractorSourceSingle.avsc','w') as file:\n",
    "    json.dump(sextractor_schema,file,indent=4)"
   ]
  },
  {
   "cell_type": "code",
   "execution_count": null,
   "id": "2ea31306-ce4b-44db-b511-520dfe4e8641",
   "metadata": {},
   "outputs": [],
   "source": [
    "schema_definition = fastavro.schema.load_schema_ordered(['SExtractorSourceSingle.avsc','alert.avsc'])"
   ]
  },
  {
   "cell_type": "code",
   "execution_count": null,
   "id": "98f2afb6-80a8-4921-a3ac-e3912aa57528",
   "metadata": {},
   "outputs": [],
   "source": [
    "with open('sextractor_combined_alert.avro','wb') as avro_file:\n",
    "    fastavro.writer(avro_file,schema_definition,[json_data_combined])"
   ]
  },
  {
   "cell_type": "code",
   "execution_count": null,
   "id": "e5ae475c-efc2-4c09-a513-24aeef5b51a5",
   "metadata": {},
   "outputs": [],
   "source": [
    "with open('sextractor_single_alert.avro','rb') as avro_file:\n",
    "    avro_records = fastavro.reader(avro_file)\n",
    "    for record in avro_records:\n",
    "        print(record)"
   ]
  },
  {
   "cell_type": "code",
   "execution_count": null,
   "id": "8688339a-bfc1-46ce-8951-85795742973b",
   "metadata": {},
   "outputs": [],
   "source": [
    "with open('sextractor_alert.avro','rb') as avro_file:\n",
    "    avro_records = fastavro.reader(avro_file)\n",
    "    for record in avro_records:\n",
    "        print(record)"
   ]
  },
  {
   "cell_type": "code",
   "execution_count": null,
   "id": "37bbf054-56f8-4de6-bc57-b3b04033a960",
   "metadata": {},
   "outputs": [],
   "source": [
    "with open('sextractor_combined_alert.avro','rb') as avro_file:\n",
    "    avro_records = fastavro.reader(avro_file)\n",
    "    for record in avro_records:\n",
    "        print(record)"
   ]
  },
  {
   "cell_type": "code",
   "execution_count": null,
   "id": "e8f99e99-98f2-4b50-92d6-fbcef59352a1",
   "metadata": {},
   "outputs": [],
   "source": []
  }
 ],
 "metadata": {
  "kernelspec": {
   "display_name": "Python 3 (ipykernel)",
   "language": "python",
   "name": "python3"
  },
  "language_info": {
   "codemirror_mode": {
    "name": "ipython",
    "version": 3
   },
   "file_extension": ".py",
   "mimetype": "text/x-python",
   "name": "python",
   "nbconvert_exporter": "python",
   "pygments_lexer": "ipython3",
   "version": "3.12.8"
  }
 },
 "nbformat": 4,
 "nbformat_minor": 5
}
